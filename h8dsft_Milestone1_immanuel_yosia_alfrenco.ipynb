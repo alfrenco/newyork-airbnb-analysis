{
  "cells": [
    {
      "cell_type": "markdown",
      "metadata": {
        "id": "303KD5SmOHsC"
      },
      "source": [
        "# Dashboard"
      ]
    },
    {
      "cell_type": "markdown",
      "metadata": {
        "id": "5d9oOAB3OJpz"
      },
      "source": [
        "https://public.tableau.com/views/Milestone_Phase0_FTDS/Dashboard1?:language=en-US&:display_count=n&:origin=viz_share_link"
      ]
    },
    {
      "cell_type": "markdown",
      "metadata": {
        "id": "8TUDwZQ8-sIl"
      },
      "source": [
        "# Perkenalan"
      ]
    },
    {
      "cell_type": "markdown",
      "metadata": {
        "id": "5Ku9ajoa_SMi"
      },
      "source": [
        "Nama  : Immanuel Yosia Alfrenco\n",
        "\n",
        "Batch : 15\n",
        "\n",
        "---\n",
        "**MILESTONE 1**\n",
        "\n",
        "---\n",
        "\n",
        "\n"
      ]
    },
    {
      "cell_type": "markdown",
      "metadata": {
        "id": "8pdTLG65_pUw"
      },
      "source": [
        "# Identifikasi Masalah"
      ]
    },
    {
      "cell_type": "markdown",
      "metadata": {
        "id": "08IDgNR6_tMq"
      },
      "source": [
        "Topik Permasalahan :\n",
        "\n",
        "Sejak tahun 2008, Airbnb menjadi salah satu platform pemesanan dan penyewaan homestay untuk liburan ataupun wisata. Dataset yang digunakan ini berisi daftar penginapan yang ada di New York. \n",
        "\n",
        "\n",
        "Latar Belakang :\n",
        "\n",
        "Airbnb, Inc merupakan perusahaan Amerika yang mengoperasikan pasar online untuk penginapan, terutama homestay untuk persewaan liburan, dan aktivitas pariwisata. Airbnb berbasis di San Francisco, California, platform ini dapat diakses melalui situs web dan aplikasi mobile. Airbnb tidak memiliki satupun properti yang ada dalam sistem, ia mendapat untung dengan menerima komisi dari setiap pemesanan. Perusahaan ini didirikan pada tahun 2008. Airbnb adalah versi singkat dari nama aslinya, AirBedandBreakfast.com. Airbnb memiliki banyak user, salah satunya di New York. New York sendiri merupakan salah satu negara bagian yang sangat terkenal dan memiliki banyak destinasi wisata. Banyaknya wisata membuat New York kebanjiran wisatawan dari manca negara sehingga butuh banyak penginapan/homestay. Tujuan dari pengolahan data ini adalah untuk mengetahui daerah terbaik yang memiliki banyak pilihan airbnb terbaik untuk para wisatawan dari dalam maupun luar negeri."
      ]
    },
    {
      "cell_type": "markdown",
      "metadata": {
        "id": "QCxIE2nA3P1e"
      },
      "source": [
        "Problem Statement :\n",
        "\n",
        "* Mengetahui daerah yang memiliki jumlah AirBnB terbaik paling banyak di New York.\n",
        "\n",
        "\n",
        "5W+1H :\n",
        "\n",
        "*   Wilayah mana yang memiliki jumlah Airbnb terbanyak?\n",
        "*   Properti mana yang memiliki jumlah review paling banyak?\n",
        "*   Siapa host yang memiliki paling banyak properti?\n",
        "*   Wilayah mana yang memiliki rating tinggi terbanyak?\n",
        "*   Wilayah mana yang memiliki jumlah properti dengan rating tinggi terbanyak?\n",
        "*   Apa jenis distribusi dari harga di wilayah Manhattan?\n",
        "*   Bagaimana hubungan antara wilayah dan status verifikasi host?\n",
        "\n",
        "SMART :\n",
        "\n",
        "* S : Membantu para pemilik Airbnb di kota terpilih untuk mengingkatkan review Airbnb mereka\n",
        "* M : Meningkatkan rata-rata jumlah review perbulan sebanyak 4 point\n",
        "* A : Mengarahkan para wisatawan untuk memilih Airbnb di kota yang terpilih dibandingkan dengan kota lain\n",
        "* R : Goals ini bisa tercapai karena banyak Airbnb yang review perbulannya mencapai di atas angka 4\n",
        "* T : Meningkatkan rata-rata jumlah review perbulan dalam waktu 3 bulan\n",
        "\n"
      ]
    },
    {
      "cell_type": "markdown",
      "metadata": {
        "id": "KKQQzle1Fo7x"
      },
      "source": [
        "# Data Loading"
      ]
    },
    {
      "cell_type": "markdown",
      "metadata": {
        "id": "lhaRT8gQoSU1"
      },
      "source": [
        "Pertama kita harus melakukan import library dan juga memasukan data yang akan digunakan"
      ]
    },
    {
      "cell_type": "code",
      "execution_count": 2,
      "metadata": {
        "colab": {
          "base_uri": "https://localhost:8080/"
        },
        "id": "ZIx08WOwF3PG",
        "outputId": "afd991fa-546d-4a50-f8e2-d356e083295b"
      },
      "outputs": [
        {
          "name": "stdout",
          "output_type": "stream",
          "text": [
            "Collecting pandasql\n",
            "  Downloading pandasql-0.7.3.tar.gz (26 kB)\n",
            "Requirement already satisfied: numpy in /Users/immanuel/opt/anaconda3/lib/python3.9/site-packages (from pandasql) (1.21.5)\n",
            "Requirement already satisfied: pandas in /Users/immanuel/opt/anaconda3/lib/python3.9/site-packages (from pandasql) (1.4.2)\n",
            "Requirement already satisfied: sqlalchemy in /Users/immanuel/opt/anaconda3/lib/python3.9/site-packages (from pandasql) (1.4.32)\n",
            "Requirement already satisfied: python-dateutil>=2.8.1 in /Users/immanuel/opt/anaconda3/lib/python3.9/site-packages (from pandas->pandasql) (2.8.2)\n",
            "Requirement already satisfied: pytz>=2020.1 in /Users/immanuel/opt/anaconda3/lib/python3.9/site-packages (from pandas->pandasql) (2021.3)\n",
            "Requirement already satisfied: six>=1.5 in /Users/immanuel/opt/anaconda3/lib/python3.9/site-packages (from python-dateutil>=2.8.1->pandas->pandasql) (1.16.0)\n",
            "Requirement already satisfied: greenlet!=0.4.17 in /Users/immanuel/opt/anaconda3/lib/python3.9/site-packages (from sqlalchemy->pandasql) (1.1.1)\n",
            "Building wheels for collected packages: pandasql\n",
            "  Building wheel for pandasql (setup.py) ... \u001b[?25ldone\n",
            "\u001b[?25h  Created wheel for pandasql: filename=pandasql-0.7.3-py3-none-any.whl size=26784 sha256=de68fb22e23cc4c0cf334da697eda90742992de36cdf65d2233ad021d1cd04f5\n",
            "  Stored in directory: /Users/immanuel/Library/Caches/pip/wheels/63/e8/ec/75b1df467ecf57b6ececb32cb16f4e86697cbfe55cb0c51f07\n",
            "Successfully built pandasql\n",
            "Installing collected packages: pandasql\n",
            "Successfully installed pandasql-0.7.3\n",
            "Note: you may need to restart the kernel to use updated packages.\n"
          ]
        }
      ],
      "source": [
        "pip install pandasql"
      ]
    },
    {
      "cell_type": "code",
      "execution_count": 3,
      "metadata": {
        "id": "jjfs0w4U52pn"
      },
      "outputs": [],
      "source": [
        "# Melakukan import library yang dibutukan dalam milestone\n",
        "import pandas as pd\n",
        "import pandasql as ps\n",
        "from scipy import stats\n",
        "import numpy as np\n",
        "import matplotlib.pyplot as plt\n",
        "import seaborn as sns\n",
        "import plotly.express as px"
      ]
    },
    {
      "cell_type": "code",
      "execution_count": 4,
      "metadata": {
        "id": "dnIhAgEm7jK5"
      },
      "outputs": [],
      "source": [
        "# Melakukan load data csv dan mengubahkan menjadi dataframe\n",
        "df = pd.read_csv('https://raw.githubusercontent.com/alfrenco/file_milestone/main/airbnb_nyc_clean.csv')"
      ]
    },
    {
      "cell_type": "markdown",
      "metadata": {
        "id": "ZuPtThsaoQnO"
      },
      "source": [
        "Setelah data sudah masuk kita bisa melakukan checking pada data menggunakan method head() dan tail()"
      ]
    },
    {
      "cell_type": "code",
      "execution_count": 5,
      "metadata": {
        "colab": {
          "base_uri": "https://localhost:8080/"
        },
        "id": "mUpbbvm43LVt",
        "outputId": "51473469-efac-4514-ecab-3d2109156022"
      },
      "outputs": [
        {
          "data": {
            "text/plain": [
              "['id',\n",
              " 'name',\n",
              " 'host_id',\n",
              " 'host_identity_verified',\n",
              " 'host_name',\n",
              " 'neighbourhood_group',\n",
              " 'neighbourhood',\n",
              " 'lat',\n",
              " 'long',\n",
              " 'instant_bookable',\n",
              " 'cancellation_policy',\n",
              " 'room_type',\n",
              " 'construction_year',\n",
              " 'price',\n",
              " 'service_fee',\n",
              " 'minimum_nights',\n",
              " 'number_of_reviews',\n",
              " 'last_review',\n",
              " 'reviews_per_month',\n",
              " 'review_rate_number',\n",
              " 'calculated_host_listings_count',\n",
              " 'availability_365',\n",
              " 'house_rules']"
            ]
          },
          "execution_count": 5,
          "metadata": {},
          "output_type": "execute_result"
        }
      ],
      "source": [
        "list(df)"
      ]
    },
    {
      "cell_type": "code",
      "execution_count": 6,
      "metadata": {
        "colab": {
          "base_uri": "https://localhost:8080/",
          "height": 508
        },
        "id": "hbsoiBh0-Hd8",
        "outputId": "51aad26d-3dfe-4010-ffa0-6f9adbddfb0b"
      },
      "outputs": [
        {
          "data": {
            "text/html": [
              "<div>\n",
              "<style scoped>\n",
              "    .dataframe tbody tr th:only-of-type {\n",
              "        vertical-align: middle;\n",
              "    }\n",
              "\n",
              "    .dataframe tbody tr th {\n",
              "        vertical-align: top;\n",
              "    }\n",
              "\n",
              "    .dataframe thead th {\n",
              "        text-align: right;\n",
              "    }\n",
              "</style>\n",
              "<table border=\"1\" class=\"dataframe\">\n",
              "  <thead>\n",
              "    <tr style=\"text-align: right;\">\n",
              "      <th></th>\n",
              "      <th>id</th>\n",
              "      <th>name</th>\n",
              "      <th>host_id</th>\n",
              "      <th>host_identity_verified</th>\n",
              "      <th>host_name</th>\n",
              "      <th>neighbourhood_group</th>\n",
              "      <th>neighbourhood</th>\n",
              "      <th>lat</th>\n",
              "      <th>long</th>\n",
              "      <th>instant_bookable</th>\n",
              "      <th>...</th>\n",
              "      <th>price</th>\n",
              "      <th>service_fee</th>\n",
              "      <th>minimum_nights</th>\n",
              "      <th>number_of_reviews</th>\n",
              "      <th>last_review</th>\n",
              "      <th>reviews_per_month</th>\n",
              "      <th>review_rate_number</th>\n",
              "      <th>calculated_host_listings_count</th>\n",
              "      <th>availability_365</th>\n",
              "      <th>house_rules</th>\n",
              "    </tr>\n",
              "  </thead>\n",
              "  <tbody>\n",
              "    <tr>\n",
              "      <th>0</th>\n",
              "      <td>1001254</td>\n",
              "      <td>Clean &amp; quiet apt home by the park</td>\n",
              "      <td>80014485718</td>\n",
              "      <td>unconfirmed</td>\n",
              "      <td>Madaline</td>\n",
              "      <td>Brooklyn</td>\n",
              "      <td>Kensington</td>\n",
              "      <td>40.64749</td>\n",
              "      <td>-73.97237</td>\n",
              "      <td>False</td>\n",
              "      <td>...</td>\n",
              "      <td>966.0</td>\n",
              "      <td>193.0</td>\n",
              "      <td>10.0</td>\n",
              "      <td>9.0</td>\n",
              "      <td>2021-10-19</td>\n",
              "      <td>0.21</td>\n",
              "      <td>4.0</td>\n",
              "      <td>6.0</td>\n",
              "      <td>286.0</td>\n",
              "      <td>Clean up and treat the home the way you'd like...</td>\n",
              "    </tr>\n",
              "    <tr>\n",
              "      <th>1</th>\n",
              "      <td>1002102</td>\n",
              "      <td>Skylit Midtown Castle</td>\n",
              "      <td>52335172823</td>\n",
              "      <td>verified</td>\n",
              "      <td>Jenna</td>\n",
              "      <td>Manhattan</td>\n",
              "      <td>Midtown</td>\n",
              "      <td>40.75362</td>\n",
              "      <td>-73.98377</td>\n",
              "      <td>False</td>\n",
              "      <td>...</td>\n",
              "      <td>142.0</td>\n",
              "      <td>28.0</td>\n",
              "      <td>13.0</td>\n",
              "      <td>45.0</td>\n",
              "      <td>2022-05-21</td>\n",
              "      <td>0.38</td>\n",
              "      <td>4.0</td>\n",
              "      <td>2.0</td>\n",
              "      <td>228.0</td>\n",
              "      <td>Pet friendly but please confirm with me if the...</td>\n",
              "    </tr>\n",
              "    <tr>\n",
              "      <th>2</th>\n",
              "      <td>1002403</td>\n",
              "      <td>THE VILLAGE OF HARLEM....NEW YORK !</td>\n",
              "      <td>78829239556</td>\n",
              "      <td>unconfirmed</td>\n",
              "      <td>Elise</td>\n",
              "      <td>Manhattan</td>\n",
              "      <td>Harlem</td>\n",
              "      <td>40.80902</td>\n",
              "      <td>-73.94190</td>\n",
              "      <td>True</td>\n",
              "      <td>...</td>\n",
              "      <td>620.0</td>\n",
              "      <td>124.0</td>\n",
              "      <td>3.0</td>\n",
              "      <td>0.0</td>\n",
              "      <td>2019-06-14</td>\n",
              "      <td>0.79</td>\n",
              "      <td>5.0</td>\n",
              "      <td>1.0</td>\n",
              "      <td>352.0</td>\n",
              "      <td>I encourage you to use my kitchen, cooking and...</td>\n",
              "    </tr>\n",
              "    <tr>\n",
              "      <th>3</th>\n",
              "      <td>1002755</td>\n",
              "      <td>blank</td>\n",
              "      <td>85098326012</td>\n",
              "      <td>unconfirmed</td>\n",
              "      <td>Garry</td>\n",
              "      <td>Brooklyn</td>\n",
              "      <td>Clinton Hill</td>\n",
              "      <td>40.68514</td>\n",
              "      <td>-73.95976</td>\n",
              "      <td>True</td>\n",
              "      <td>...</td>\n",
              "      <td>368.0</td>\n",
              "      <td>74.0</td>\n",
              "      <td>13.0</td>\n",
              "      <td>270.0</td>\n",
              "      <td>2019-07-05</td>\n",
              "      <td>4.64</td>\n",
              "      <td>4.0</td>\n",
              "      <td>1.0</td>\n",
              "      <td>322.0</td>\n",
              "      <td>blank</td>\n",
              "    </tr>\n",
              "    <tr>\n",
              "      <th>4</th>\n",
              "      <td>1003689</td>\n",
              "      <td>Entire Apt: Spacious Studio/Loft by central park</td>\n",
              "      <td>92037596077</td>\n",
              "      <td>verified</td>\n",
              "      <td>Lyndon</td>\n",
              "      <td>Manhattan</td>\n",
              "      <td>East Harlem</td>\n",
              "      <td>40.79851</td>\n",
              "      <td>-73.94399</td>\n",
              "      <td>False</td>\n",
              "      <td>...</td>\n",
              "      <td>204.0</td>\n",
              "      <td>41.0</td>\n",
              "      <td>10.0</td>\n",
              "      <td>9.0</td>\n",
              "      <td>2018-11-19</td>\n",
              "      <td>0.10</td>\n",
              "      <td>3.0</td>\n",
              "      <td>1.0</td>\n",
              "      <td>289.0</td>\n",
              "      <td>Please no smoking in the house, porch or on th...</td>\n",
              "    </tr>\n",
              "  </tbody>\n",
              "</table>\n",
              "<p>5 rows × 23 columns</p>\n",
              "</div>"
            ],
            "text/plain": [
              "        id                                              name      host_id  \\\n",
              "0  1001254                Clean & quiet apt home by the park  80014485718   \n",
              "1  1002102                             Skylit Midtown Castle  52335172823   \n",
              "2  1002403               THE VILLAGE OF HARLEM....NEW YORK !  78829239556   \n",
              "3  1002755                                             blank  85098326012   \n",
              "4  1003689  Entire Apt: Spacious Studio/Loft by central park  92037596077   \n",
              "\n",
              "  host_identity_verified host_name neighbourhood_group neighbourhood  \\\n",
              "0            unconfirmed  Madaline            Brooklyn    Kensington   \n",
              "1               verified     Jenna           Manhattan       Midtown   \n",
              "2            unconfirmed     Elise           Manhattan        Harlem   \n",
              "3            unconfirmed     Garry            Brooklyn  Clinton Hill   \n",
              "4               verified    Lyndon           Manhattan   East Harlem   \n",
              "\n",
              "        lat      long  instant_bookable  ...  price service_fee  \\\n",
              "0  40.64749 -73.97237             False  ...  966.0       193.0   \n",
              "1  40.75362 -73.98377             False  ...  142.0        28.0   \n",
              "2  40.80902 -73.94190              True  ...  620.0       124.0   \n",
              "3  40.68514 -73.95976              True  ...  368.0        74.0   \n",
              "4  40.79851 -73.94399             False  ...  204.0        41.0   \n",
              "\n",
              "   minimum_nights  number_of_reviews  last_review  reviews_per_month  \\\n",
              "0            10.0                9.0   2021-10-19               0.21   \n",
              "1            13.0               45.0   2022-05-21               0.38   \n",
              "2             3.0                0.0   2019-06-14               0.79   \n",
              "3            13.0              270.0   2019-07-05               4.64   \n",
              "4            10.0                9.0   2018-11-19               0.10   \n",
              "\n",
              "   review_rate_number calculated_host_listings_count  availability_365  \\\n",
              "0                 4.0                            6.0             286.0   \n",
              "1                 4.0                            2.0             228.0   \n",
              "2                 5.0                            1.0             352.0   \n",
              "3                 4.0                            1.0             322.0   \n",
              "4                 3.0                            1.0             289.0   \n",
              "\n",
              "                                         house_rules  \n",
              "0  Clean up and treat the home the way you'd like...  \n",
              "1  Pet friendly but please confirm with me if the...  \n",
              "2  I encourage you to use my kitchen, cooking and...  \n",
              "3                                              blank  \n",
              "4  Please no smoking in the house, porch or on th...  \n",
              "\n",
              "[5 rows x 23 columns]"
            ]
          },
          "execution_count": 6,
          "metadata": {},
          "output_type": "execute_result"
        }
      ],
      "source": [
        "df.head()"
      ]
    },
    {
      "cell_type": "code",
      "execution_count": 7,
      "metadata": {
        "colab": {
          "base_uri": "https://localhost:8080/",
          "height": 647
        },
        "id": "pYwX3W37-PBi",
        "outputId": "442eda26-c234-4ac3-b244-aa64d641a572"
      },
      "outputs": [
        {
          "data": {
            "text/html": [
              "<div>\n",
              "<style scoped>\n",
              "    .dataframe tbody tr th:only-of-type {\n",
              "        vertical-align: middle;\n",
              "    }\n",
              "\n",
              "    .dataframe tbody tr th {\n",
              "        vertical-align: top;\n",
              "    }\n",
              "\n",
              "    .dataframe thead th {\n",
              "        text-align: right;\n",
              "    }\n",
              "</style>\n",
              "<table border=\"1\" class=\"dataframe\">\n",
              "  <thead>\n",
              "    <tr style=\"text-align: right;\">\n",
              "      <th></th>\n",
              "      <th>id</th>\n",
              "      <th>name</th>\n",
              "      <th>host_id</th>\n",
              "      <th>host_identity_verified</th>\n",
              "      <th>host_name</th>\n",
              "      <th>neighbourhood_group</th>\n",
              "      <th>neighbourhood</th>\n",
              "      <th>lat</th>\n",
              "      <th>long</th>\n",
              "      <th>instant_bookable</th>\n",
              "      <th>...</th>\n",
              "      <th>price</th>\n",
              "      <th>service_fee</th>\n",
              "      <th>minimum_nights</th>\n",
              "      <th>number_of_reviews</th>\n",
              "      <th>last_review</th>\n",
              "      <th>reviews_per_month</th>\n",
              "      <th>review_rate_number</th>\n",
              "      <th>calculated_host_listings_count</th>\n",
              "      <th>availability_365</th>\n",
              "      <th>house_rules</th>\n",
              "    </tr>\n",
              "  </thead>\n",
              "  <tbody>\n",
              "    <tr>\n",
              "      <th>69300</th>\n",
              "      <td>57361342</td>\n",
              "      <td>Sunny budget friendly room in Bushwick</td>\n",
              "      <td>29964876857</td>\n",
              "      <td>verified</td>\n",
              "      <td>blank</td>\n",
              "      <td>Brooklyn</td>\n",
              "      <td>Bushwick</td>\n",
              "      <td>40.69370</td>\n",
              "      <td>-73.91006</td>\n",
              "      <td>True</td>\n",
              "      <td>...</td>\n",
              "      <td>624.73607</td>\n",
              "      <td>124.894026</td>\n",
              "      <td>5.0</td>\n",
              "      <td>3.0</td>\n",
              "      <td>2018-04-09</td>\n",
              "      <td>0.11</td>\n",
              "      <td>1.0</td>\n",
              "      <td>1.0</td>\n",
              "      <td>0.0</td>\n",
              "      <td>Please be mindful that I live in the same buil...</td>\n",
              "    </tr>\n",
              "    <tr>\n",
              "      <th>69301</th>\n",
              "      <td>57361894</td>\n",
              "      <td>Cozy Apartment on Bedford Ave, Brooklyn</td>\n",
              "      <td>92852058426</td>\n",
              "      <td>unconfirmed</td>\n",
              "      <td>blank</td>\n",
              "      <td>Brooklyn</td>\n",
              "      <td>Williamsburg</td>\n",
              "      <td>40.71284</td>\n",
              "      <td>-73.96284</td>\n",
              "      <td>False</td>\n",
              "      <td>...</td>\n",
              "      <td>624.73607</td>\n",
              "      <td>124.894026</td>\n",
              "      <td>7.0</td>\n",
              "      <td>15.0</td>\n",
              "      <td>2018-01-01</td>\n",
              "      <td>0.55</td>\n",
              "      <td>4.0</td>\n",
              "      <td>1.0</td>\n",
              "      <td>0.0</td>\n",
              "      <td>blank</td>\n",
              "    </tr>\n",
              "    <tr>\n",
              "      <th>69302</th>\n",
              "      <td>57362446</td>\n",
              "      <td>Your 1 bedroom home away from home!</td>\n",
              "      <td>95572379802</td>\n",
              "      <td>verified</td>\n",
              "      <td>blank</td>\n",
              "      <td>Manhattan</td>\n",
              "      <td>Upper West Side</td>\n",
              "      <td>40.79563</td>\n",
              "      <td>-73.97634</td>\n",
              "      <td>True</td>\n",
              "      <td>...</td>\n",
              "      <td>624.73607</td>\n",
              "      <td>124.894026</td>\n",
              "      <td>3.0</td>\n",
              "      <td>38.0</td>\n",
              "      <td>2019-06-10</td>\n",
              "      <td>1.40</td>\n",
              "      <td>3.0</td>\n",
              "      <td>1.0</td>\n",
              "      <td>31.0</td>\n",
              "      <td>blank</td>\n",
              "    </tr>\n",
              "    <tr>\n",
              "      <th>69303</th>\n",
              "      <td>57362999</td>\n",
              "      <td>MASTER Cozy Bedroom Queen size 2 blocks Timesq...</td>\n",
              "      <td>80154173698</td>\n",
              "      <td>verified</td>\n",
              "      <td>blank</td>\n",
              "      <td>Manhattan</td>\n",
              "      <td>Hell's Kitchen</td>\n",
              "      <td>40.76125</td>\n",
              "      <td>-73.98945</td>\n",
              "      <td>True</td>\n",
              "      <td>...</td>\n",
              "      <td>624.73607</td>\n",
              "      <td>124.894026</td>\n",
              "      <td>1.0</td>\n",
              "      <td>81.0</td>\n",
              "      <td>2019-03-05</td>\n",
              "      <td>2.96</td>\n",
              "      <td>2.0</td>\n",
              "      <td>2.0</td>\n",
              "      <td>0.0</td>\n",
              "      <td>- I work at home and prefer to rent to folks w...</td>\n",
              "    </tr>\n",
              "    <tr>\n",
              "      <th>69304</th>\n",
              "      <td>57363551</td>\n",
              "      <td>Sunny Brownstone Studio in BedStuy Brooklyn</td>\n",
              "      <td>11145329848</td>\n",
              "      <td>unconfirmed</td>\n",
              "      <td>Jamal</td>\n",
              "      <td>Brooklyn</td>\n",
              "      <td>Bedford-Stuyvesant</td>\n",
              "      <td>40.68221</td>\n",
              "      <td>-73.94618</td>\n",
              "      <td>False</td>\n",
              "      <td>...</td>\n",
              "      <td>624.73607</td>\n",
              "      <td>124.894026</td>\n",
              "      <td>2.0</td>\n",
              "      <td>104.0</td>\n",
              "      <td>2019-06-12</td>\n",
              "      <td>3.69</td>\n",
              "      <td>5.0</td>\n",
              "      <td>1.0</td>\n",
              "      <td>268.0</td>\n",
              "      <td>blank</td>\n",
              "    </tr>\n",
              "  </tbody>\n",
              "</table>\n",
              "<p>5 rows × 23 columns</p>\n",
              "</div>"
            ],
            "text/plain": [
              "             id                                               name  \\\n",
              "69300  57361342             Sunny budget friendly room in Bushwick   \n",
              "69301  57361894            Cozy Apartment on Bedford Ave, Brooklyn   \n",
              "69302  57362446                Your 1 bedroom home away from home!   \n",
              "69303  57362999  MASTER Cozy Bedroom Queen size 2 blocks Timesq...   \n",
              "69304  57363551        Sunny Brownstone Studio in BedStuy Brooklyn   \n",
              "\n",
              "           host_id host_identity_verified host_name neighbourhood_group  \\\n",
              "69300  29964876857               verified     blank            Brooklyn   \n",
              "69301  92852058426            unconfirmed     blank            Brooklyn   \n",
              "69302  95572379802               verified     blank           Manhattan   \n",
              "69303  80154173698               verified     blank           Manhattan   \n",
              "69304  11145329848            unconfirmed     Jamal            Brooklyn   \n",
              "\n",
              "            neighbourhood       lat      long  instant_bookable  ...  \\\n",
              "69300            Bushwick  40.69370 -73.91006              True  ...   \n",
              "69301        Williamsburg  40.71284 -73.96284             False  ...   \n",
              "69302     Upper West Side  40.79563 -73.97634              True  ...   \n",
              "69303      Hell's Kitchen  40.76125 -73.98945              True  ...   \n",
              "69304  Bedford-Stuyvesant  40.68221 -73.94618             False  ...   \n",
              "\n",
              "           price service_fee  minimum_nights  number_of_reviews  last_review  \\\n",
              "69300  624.73607  124.894026             5.0                3.0   2018-04-09   \n",
              "69301  624.73607  124.894026             7.0               15.0   2018-01-01   \n",
              "69302  624.73607  124.894026             3.0               38.0   2019-06-10   \n",
              "69303  624.73607  124.894026             1.0               81.0   2019-03-05   \n",
              "69304  624.73607  124.894026             2.0              104.0   2019-06-12   \n",
              "\n",
              "       reviews_per_month  review_rate_number calculated_host_listings_count  \\\n",
              "69300               0.11                 1.0                            1.0   \n",
              "69301               0.55                 4.0                            1.0   \n",
              "69302               1.40                 3.0                            1.0   \n",
              "69303               2.96                 2.0                            2.0   \n",
              "69304               3.69                 5.0                            1.0   \n",
              "\n",
              "       availability_365                                        house_rules  \n",
              "69300               0.0  Please be mindful that I live in the same buil...  \n",
              "69301               0.0                                              blank  \n",
              "69302              31.0                                              blank  \n",
              "69303               0.0  - I work at home and prefer to rent to folks w...  \n",
              "69304             268.0                                              blank  \n",
              "\n",
              "[5 rows x 23 columns]"
            ]
          },
          "execution_count": 7,
          "metadata": {},
          "output_type": "execute_result"
        }
      ],
      "source": [
        "df.tail()"
      ]
    },
    {
      "cell_type": "markdown",
      "metadata": {
        "id": "s5pA89lbF0gI"
      },
      "source": [
        "# Data Cleaning"
      ]
    },
    {
      "cell_type": "markdown",
      "metadata": {
        "id": "Hc-tYLEjoqlu"
      },
      "source": [
        "Pertama kita harus mengecek informasi dasar tentang data yang digunakan seperti jumlah isi data dan tipe datanya"
      ]
    },
    {
      "cell_type": "code",
      "execution_count": 8,
      "metadata": {
        "colab": {
          "base_uri": "https://localhost:8080/"
        },
        "id": "w2_8zm_LLUo1",
        "outputId": "22a675b9-b337-4e2a-a6d7-2c85558335bf"
      },
      "outputs": [
        {
          "name": "stdout",
          "output_type": "stream",
          "text": [
            "<class 'pandas.core.frame.DataFrame'>\n",
            "RangeIndex: 69305 entries, 0 to 69304\n",
            "Data columns (total 23 columns):\n",
            " #   Column                          Non-Null Count  Dtype  \n",
            "---  ------                          --------------  -----  \n",
            " 0   id                              69305 non-null  int64  \n",
            " 1   name                            69305 non-null  object \n",
            " 2   host_id                         69305 non-null  int64  \n",
            " 3   host_identity_verified          69305 non-null  object \n",
            " 4   host_name                       69305 non-null  object \n",
            " 5   neighbourhood_group             69305 non-null  object \n",
            " 6   neighbourhood                   69305 non-null  object \n",
            " 7   lat                             69305 non-null  float64\n",
            " 8   long                            69305 non-null  float64\n",
            " 9   instant_bookable                69305 non-null  bool   \n",
            " 10  cancellation_policy             69305 non-null  object \n",
            " 11  room_type                       69305 non-null  object \n",
            " 12  construction_year               69305 non-null  float64\n",
            " 13  price                           69305 non-null  float64\n",
            " 14  service_fee                     69305 non-null  float64\n",
            " 15  minimum_nights                  69305 non-null  float64\n",
            " 16  number_of_reviews               69305 non-null  float64\n",
            " 17  last_review                     69305 non-null  object \n",
            " 18  reviews_per_month               69305 non-null  float64\n",
            " 19  review_rate_number              69305 non-null  float64\n",
            " 20  calculated_host_listings_count  69305 non-null  float64\n",
            " 21  availability_365                69305 non-null  float64\n",
            " 22  house_rules                     69305 non-null  object \n",
            "dtypes: bool(1), float64(11), int64(2), object(9)\n",
            "memory usage: 11.7+ MB\n"
          ]
        }
      ],
      "source": [
        "df.info()"
      ]
    },
    {
      "cell_type": "markdown",
      "metadata": {
        "id": "EcexmjgJo16-"
      },
      "source": [
        "Selanjutnya kita bisa mengecek apakah terdapat missing values pada data kita"
      ]
    },
    {
      "cell_type": "code",
      "execution_count": 9,
      "metadata": {
        "colab": {
          "base_uri": "https://localhost:8080/"
        },
        "id": "o7TJoz-WF3B2",
        "outputId": "d4e8275a-79f5-4020-b61d-5c69ad40dfdb"
      },
      "outputs": [
        {
          "data": {
            "text/plain": [
              "id                                0\n",
              "name                              0\n",
              "host_id                           0\n",
              "host_identity_verified            0\n",
              "host_name                         0\n",
              "neighbourhood_group               0\n",
              "neighbourhood                     0\n",
              "lat                               0\n",
              "long                              0\n",
              "instant_bookable                  0\n",
              "cancellation_policy               0\n",
              "room_type                         0\n",
              "construction_year                 0\n",
              "price                             0\n",
              "service_fee                       0\n",
              "minimum_nights                    0\n",
              "number_of_reviews                 0\n",
              "last_review                       0\n",
              "reviews_per_month                 0\n",
              "review_rate_number                0\n",
              "calculated_host_listings_count    0\n",
              "availability_365                  0\n",
              "house_rules                       0\n",
              "dtype: int64"
            ]
          },
          "execution_count": 9,
          "metadata": {},
          "output_type": "execute_result"
        }
      ],
      "source": [
        "df.isnull().sum()"
      ]
    },
    {
      "cell_type": "markdown",
      "metadata": {
        "id": "BEs7Z6Uwo8wf"
      },
      "source": [
        "Karena sudah tidak terdapat missing values, kita bisa mengecek apakah pada kolom yang memiliki data numerik terdapat outliers atau tidak"
      ]
    },
    {
      "cell_type": "code",
      "execution_count": 10,
      "metadata": {
        "colab": {
          "base_uri": "https://localhost:8080/",
          "height": 500
        },
        "id": "JJw7R-791g8X",
        "outputId": "1dffe818-d3c6-4814-94a2-734c42bad3a5"
      },
      "outputs": [
        {
          "data": {
            "image/png": "[encoded data removed]",
            "text/plain": [
              "<Figure size 720x576 with 1 Axes>"
            ]
          },
          "metadata": {
            "needs_background": "light"
          },
          "output_type": "display_data"
        }
      ],
      "source": [
        "# Mengecek outliers pada kolom price\n",
        "price_df = df['review_rate_number']\n",
        "price_df.plot(kind='box', title='Price', figsize=(10,8))\n",
        "plt.show()"
      ]
    },
    {
      "cell_type": "code",
      "execution_count": 11,
      "metadata": {
        "colab": {
          "base_uri": "https://localhost:8080/",
          "height": 500
        },
        "id": "hHBk1eGApNwO",
        "outputId": "c969c81a-8621-4bb5-c04a-8dc87de2bf45"
      },
      "outputs": [
        {
          "data": {
            "image/png": "[encoded data removed]",
            "text/plain": [
              "<Figure size 720x576 with 1 Axes>"
            ]
          },
          "metadata": {
            "needs_background": "light"
          },
          "output_type": "display_data"
        }
      ],
      "source": [
        "# Mengecek outliers pada kolom price\n",
        "price_df = df['service_fee']\n",
        "price_df.plot(kind='box', title='service_fee', figsize=(10,8))\n",
        "plt.show()"
      ]
    },
    {
      "cell_type": "code",
      "execution_count": 12,
      "metadata": {
        "colab": {
          "base_uri": "https://localhost:8080/",
          "height": 500
        },
        "id": "39HGRQxypeSE",
        "outputId": "00b9b9f9-c0be-48b6-c7a4-296dbfef2398"
      },
      "outputs": [
        {
          "data": {
            "image/png": "[encoded data removed]",
            "text/plain": [
              "<Figure size 720x576 with 1 Axes>"
            ]
          },
          "metadata": {
            "needs_background": "light"
          },
          "output_type": "display_data"
        }
      ],
      "source": [
        "# Mengecek outliers pada kolom price\n",
        "price_df = df['availability_365']\n",
        "price_df.plot(kind='box', title='Availability', figsize=(10,8))\n",
        "plt.show()"
      ]
    },
    {
      "cell_type": "markdown",
      "metadata": {
        "id": "KhuJLjwMqKq9"
      },
      "source": [
        "Dari hasil di atas kita bisa melihat bahwa pada kolom price, service fee, dan availability tidak terdapat outlier, artinya data sudah siap untuk digunakan dan dianalisis"
      ]
    },
    {
      "cell_type": "markdown",
      "metadata": {
        "id": "55ku69lR22HY"
      },
      "source": [
        "# Analisis dan Perhitungan"
      ]
    },
    {
      "cell_type": "markdown",
      "metadata": {
        "id": "WFZ0uOpPN5rr"
      },
      "source": [
        "## Visualisasi"
      ]
    },
    {
      "cell_type": "markdown",
      "metadata": {
        "id": "URJT6WBvrd_j"
      },
      "source": [
        "Pertama, kita ingin mengetahui ada berapa bagian wilayah di New York dan juga distrik di dalamnya"
      ]
    },
    {
      "cell_type": "code",
      "execution_count": 13,
      "metadata": {
        "colab": {
          "base_uri": "https://localhost:8080/"
        },
        "id": "L6U0BoYZ7bTB",
        "outputId": "697f9450-6a48-4c83-bc93-422503451485"
      },
      "outputs": [
        {
          "data": {
            "text/plain": [
              "array(['Brooklyn', 'Manhattan', 'Queens', 'Staten Island', 'Bronx'],\n",
              "      dtype=object)"
            ]
          },
          "execution_count": 13,
          "metadata": {},
          "output_type": "execute_result"
        }
      ],
      "source": [
        "df['neighbourhood_group'].unique()"
      ]
    },
    {
      "cell_type": "code",
      "execution_count": 14,
      "metadata": {
        "colab": {
          "base_uri": "https://localhost:8080/"
        },
        "id": "8eyXg7L2A_L2",
        "outputId": "238f60b4-5e1f-4b24-e6ca-35804a5c2267"
      },
      "outputs": [
        {
          "data": {
            "text/plain": [
              "array(['Kensington', 'Midtown', 'Harlem', 'Clinton Hill', 'East Harlem',\n",
              "       'Murray Hill', 'Bedford-Stuyvesant', \"Hell's Kitchen\",\n",
              "       'Upper West Side', 'Chinatown', 'South Slope', 'West Village',\n",
              "       'Williamsburg', 'Fort Greene', 'Chelsea', 'Crown Heights',\n",
              "       'Park Slope', 'Windsor Terrace', 'Inwood', 'East Village',\n",
              "       'Greenpoint', 'Bushwick', 'Flatbush', 'Lower East Side',\n",
              "       'Prospect-Lefferts Gardens', 'Long Island City', 'Kips Bay',\n",
              "       'SoHo', 'Upper East Side', 'Prospect Heights',\n",
              "       'Washington Heights', 'Woodside', 'Brooklyn Heights',\n",
              "       'Carroll Gardens', 'Gowanus', 'Flatlands', 'Cobble Hill',\n",
              "       'Flushing', 'Boerum Hill', 'Sunnyside', 'DUMBO', 'St. George',\n",
              "       'Highbridge', 'Financial District', 'Ridgewood',\n",
              "       'Morningside Heights', 'Jamaica', 'Middle Village', 'NoHo',\n",
              "       'Ditmars Steinway', 'Flatiron District', 'Roosevelt Island',\n",
              "       'Greenwich Village', 'Little Italy', 'East Flatbush',\n",
              "       'Tompkinsville', 'Astoria', 'Clason Point', 'Eastchester',\n",
              "       'Kingsbridge', 'Two Bridges', 'Queens Village', 'Rockaway Beach',\n",
              "       'Forest Hills', 'Nolita', 'Woodlawn', 'University Heights',\n",
              "       'Gravesend', 'Gramercy', 'Allerton', 'Driggs Avenue',\n",
              "       'East New York', 'East 14th Street', 'Henry Street',\n",
              "       'Theater District', 'Concourse Village', 'Sheepshead Bay',\n",
              "       'Emerson Hill', 'Manhattan Avenue', 'Fort Hamilton', 'Bensonhurst',\n",
              "       'Tribeca', '5th Avenue', 'Shore Acres', 'Sunset Park', 'Concourse',\n",
              "       'Avenue A', 'East 47th Street', 'Grand Street', 'Fulton Street',\n",
              "       'Elmhurst', 'Clay Street', 'Brighton Beach',\n",
              "       'McGuinness Boulevard', 'Jackson Heights', 'Cypress Hills',\n",
              "       'St. Albans', 'Arrochar', 'Broadway', 'West 81st Street',\n",
              "       'Rego Park', 'Wakefield', 'Franklin Street', '21st Street',\n",
              "       'Clifton', 'Bay Ridge', 'Graniteville', 'Spuyten Duyvil',\n",
              "       'Stapleton', 'Briarwood', 'Ozone Park', 'Columbia St',\n",
              "       'Vinegar Hill', 'Mott Haven', 'Longwood', 'Canarsie',\n",
              "       'Battery Park City', 'Civic Center', 'East Elmhurst',\n",
              "       'New Springville', 'Morris Heights', 'Arverne', 'Cambria Heights',\n",
              "       'Tottenville', 'Mariners Harbor', 'Concord', 'Borough Park',\n",
              "       'Bayside', 'Downtown Brooklyn', 'Port Morris', 'Fieldston',\n",
              "       'Kew Gardens', 'Midwood', 'College Point', 'Mount Eden',\n",
              "       'City Island', 'Glendale', 'Port Richmond', 'Red Hook',\n",
              "       'Richmond Hill', 'Bellerose', 'Maspeth', 'Williamsbridge',\n",
              "       'Soundview', 'Woodhaven', 'Woodrow', 'Co-op City',\n",
              "       'Stuyvesant Town', 'Parkchester', 'North Riverdale',\n",
              "       'Dyker Heights', 'Bronxdale', 'Sea Gate', 'Riverdale',\n",
              "       'Kew Gardens Hills', 'Bay Terrace', 'Norwood', 'Claremont Village',\n",
              "       'Whitestone', 'Fordham', 'Bayswater', 'Navy Yard', 'Brownsville',\n",
              "       'Eltingville', 'Fresh Meadows', 'Mount Hope', 'Lighthouse Hill',\n",
              "       'Springfield Gardens', 'Howard Beach', 'Belle Harbor',\n",
              "       'Jamaica Estates', 'Van Nest', 'Morris Park', 'West Brighton',\n",
              "       'Far Rockaway', 'South Ozone Park', 'Tremont', 'Corona',\n",
              "       'Great Kills', 'Manhattan Beach', 'Marble Hill', 'Dongan Hills',\n",
              "       'Castleton Corners', 'East Morrisania', 'Hunts Point', 'Neponsit',\n",
              "       'Pelham Bay', 'Randall Manor', 'Throgs Neck', 'Todt Hill',\n",
              "       'West Farms', 'Silver Lake', 'Morrisania', 'Laurelton',\n",
              "       'Grymes Hill', 'Holliswood', 'Pelham Gardens', 'Belmont',\n",
              "       'Rosedale', 'Edgemere', 'New Brighton', 'Midland Beach',\n",
              "       'Baychester', 'Melrose', 'Bergen Beach', 'Richmondtown',\n",
              "       'Howland Hook', 'Schuylerville', 'Coney Island', 'New Dorp Beach',\n",
              "       \"Prince's Bay\", 'South Beach', 'Bath Beach', 'Jamaica Hills',\n",
              "       'Oakwood', 'Castle Hill', 'Hollis', 'Douglaston', 'Huguenot',\n",
              "       'Olinville', 'Edenwald', 'Grant City', 'Westerleigh',\n",
              "       'Bay Terrace, Staten Island', 'Westchester Square', 'Little Neck',\n",
              "       'Fort Wadsworth', 'Rosebank', 'Unionport', 'Mill Basin',\n",
              "       'Arden Heights', \"Bull's Head\", 'New Dorp', 'Rossville',\n",
              "       'Breezy Point', 'Willowbrook', 'Glen Oaks', 'Gerritsen Beach',\n",
              "       'Chelsea, Staten Island'], dtype=object)"
            ]
          },
          "execution_count": 14,
          "metadata": {},
          "output_type": "execute_result"
        }
      ],
      "source": [
        "df['neighbourhood'].unique()"
      ]
    },
    {
      "cell_type": "markdown",
      "metadata": {
        "id": "xpZQTZ6xu_02"
      },
      "source": [
        "Setelah mengetahui nama wilayah di New York, kita akan mencari tahu informasi tentang wilayah-wilayah ini"
      ]
    },
    {
      "cell_type": "code",
      "execution_count": 15,
      "metadata": {
        "colab": {
          "base_uri": "https://localhost:8080/"
        },
        "id": "WbMNfDkhzqXo",
        "outputId": "ff4de056-7c88-400f-ecc2-0bc79a0520a6"
      },
      "outputs": [
        {
          "data": {
            "text/plain": [
              "Manhattan        29587\n",
              "Brooklyn         27895\n",
              "Queens            9262\n",
              "Bronx             1912\n",
              "Staten Island      649\n",
              "Name: neighbourhood_group, dtype: int64"
            ]
          },
          "execution_count": 15,
          "metadata": {},
          "output_type": "execute_result"
        }
      ],
      "source": [
        "df['neighbourhood_group'].value_counts()"
      ]
    },
    {
      "cell_type": "code",
      "execution_count": 16,
      "metadata": {
        "colab": {
          "base_uri": "https://localhost:8080/",
          "height": 411
        },
        "id": "bux9QuUf9VUN",
        "outputId": "ab9704f7-6359-4335-d440-3affa5a86bd5"
      },
      "outputs": [
        {
          "data": {
            "image/png": "[encoded data removed]",
            "text/plain": [
              "<Figure size 504x504 with 1 Axes>"
            ]
          },
          "metadata": {},
          "output_type": "display_data"
        }
      ],
      "source": [
        "df['neighbourhood_group'].value_counts().plot(kind='pie', figsize=(7,7), autopct='%.2f')\n",
        "plt.show()"
      ]
    },
    {
      "cell_type": "markdown",
      "metadata": {
        "id": "ABbeFrEgz2sN"
      },
      "source": [
        "Dari hasil visual di atas kita bisa melihat bahwa wilayah Manhattan memiliki jumlah Airbnb terbanyak yaitu sebanyak 29587 properti atau sebanyak 42.69% dari seluruh New York, dan Staten Island memiliki jumlah Airbnb paling sedikit yaitu hanya 649 properti atau sebesar 0.94% dari seluruh New York."
      ]
    },
    {
      "cell_type": "code",
      "execution_count": 17,
      "metadata": {
        "colab": {
          "base_uri": "https://localhost:8080/"
        },
        "id": "nYweg3mWBvFf",
        "outputId": "98cee216-1766-49d1-e9a5-b9ed29fe21c9"
      },
      "outputs": [
        {
          "data": {
            "text/plain": [
              "neighbourhood_group\n",
              "Bronx            629.491189\n",
              "Brooklyn         626.276070\n",
              "Manhattan        622.101014\n",
              "Queens           627.898325\n",
              "Staten Island    619.534990\n",
              "Name: price, dtype: float64"
            ]
          },
          "execution_count": 17,
          "metadata": {},
          "output_type": "execute_result"
        }
      ],
      "source": [
        "df.groupby('neighbourhood_group')['price'].mean()"
      ]
    },
    {
      "cell_type": "code",
      "execution_count": 18,
      "metadata": {
        "colab": {
          "base_uri": "https://localhost:8080/",
          "height": 336
        },
        "id": "KD-nPz5K7Og8",
        "outputId": "ea5c8249-0abd-4032-f45b-55f17859276c"
      },
      "outputs": [
        {
          "data": {
            "image/png": "[encoded data removed]",
            "text/plain": [
              "<Figure size 432x288 with 1 Axes>"
            ]
          },
          "metadata": {
            "needs_background": "light"
          },
          "output_type": "display_data"
        }
      ],
      "source": [
        "df.groupby('neighbourhood_group')['price'].mean().plot(kind='bar', )\n",
        "plt.show()"
      ]
    },
    {
      "cell_type": "markdown",
      "metadata": {
        "id": "qvJzwmTz7gty"
      },
      "source": [
        "Dari hasil visual di atas kita bisa meilhat bahwa meskipun Manhattan memiliki jumlah Airbnb terbanyak namun Bronx memiliki rata-rata harga tertinggi yaitu sebesar 629.49 dollar."
      ]
    },
    {
      "cell_type": "code",
      "execution_count": 19,
      "metadata": {
        "colab": {
          "base_uri": "https://localhost:8080/"
        },
        "id": "UDZJqo93w6Cf",
        "outputId": "2ceb410b-4fc8-412d-f3c8-9b72ab41b46b"
      },
      "outputs": [
        {
          "data": {
            "text/plain": [
              "neighbourhood_group\n",
              "Bronx            2022.0\n",
              "Brooklyn         2012.0\n",
              "Manhattan        2012.0\n",
              "Queens           2006.0\n",
              "Staten Island    2004.0\n",
              "Name: construction_year, dtype: float64"
            ]
          },
          "execution_count": 19,
          "metadata": {},
          "output_type": "execute_result"
        }
      ],
      "source": [
        "df.groupby('neighbourhood_group')['construction_year'].agg(pd.Series.mode)"
      ]
    },
    {
      "cell_type": "markdown",
      "metadata": {
        "id": "5xviVRyx2g8Q"
      },
      "source": [
        "Dari hasil di atas kita bisa melihat bahwa Bronx memiliki banyak bangunan baru yang mungkin menyebabkan rata-rata harga di Bronx adalah yang paling tinggi"
      ]
    },
    {
      "cell_type": "code",
      "execution_count": 20,
      "metadata": {
        "colab": {
          "base_uri": "https://localhost:8080/"
        },
        "id": "H1q52f4Djd1e",
        "outputId": "24e073f3-2e15-4e20-b7d3-c14b85f29c46"
      },
      "outputs": [
        {
          "data": {
            "text/plain": [
              "neighbourhood_group\n",
              "Bronx            1.604529\n",
              "Brooklyn         1.254143\n",
              "Manhattan        1.200440\n",
              "Queens           1.681825\n",
              "Staten Island    1.624037\n",
              "Name: reviews_per_month, dtype: float64"
            ]
          },
          "execution_count": 20,
          "metadata": {},
          "output_type": "execute_result"
        }
      ],
      "source": [
        "df.groupby('neighbourhood_group')['reviews_per_month'].mean()"
      ]
    },
    {
      "cell_type": "markdown",
      "metadata": {
        "id": "VyaCm6V22NKX"
      },
      "source": [
        "Airbnb di wilayan Queens memiliki rata-rata jumlah review perbulan paling tinggi yaitu 1.68 review perbulan, dimana Manhattan meskipun memiliki jumlah Airbnb terbanyak, dia memiliki rata-rata review perbulan paling sedikit"
      ]
    },
    {
      "cell_type": "code",
      "execution_count": 21,
      "metadata": {
        "colab": {
          "base_uri": "https://localhost:8080/",
          "height": 405
        },
        "id": "i7dTXoNJ_DlA",
        "outputId": "235c797f-7f2a-4c56-d15d-affab191a538"
      },
      "outputs": [
        {
          "data": {
            "image/png": "[encoded data removed]",
            "text/plain": [
              "<Figure size 864x432 with 1 Axes>"
            ]
          },
          "metadata": {
            "needs_background": "light"
          },
          "output_type": "display_data"
        }
      ],
      "source": [
        "plt.figure(figsize=(12,6))\n",
        "temp = df.sort_values(by=\"number_of_reviews\", axis=0, ascending=False).iloc[:20, :]\n",
        "sns.barplot(data=temp, y='name', x='number_of_reviews', palette=\"Blues_d\")\n",
        "plt.title('Ranking of top NYC Airbnb by Number of Reviews')\n",
        "plt.show()"
      ]
    },
    {
      "cell_type": "markdown",
      "metadata": {
        "id": "QFOVKnoK3pQq"
      },
      "source": [
        "Dari visual di atas kita bisa melihat 20 properti dengan jumlah review paling banyak di New York"
      ]
    },
    {
      "cell_type": "code",
      "execution_count": 22,
      "metadata": {
        "colab": {
          "base_uri": "https://localhost:8080/"
        },
        "id": "TwCplZ-K3I4A",
        "outputId": "ce081563-9e52-4142-f3cc-53d3673cd2ca"
      },
      "outputs": [
        {
          "data": {
            "text/plain": [
              "neighbourhood_group\n",
              "Bronx             60258.0\n",
              "Brooklyn         825306.0\n",
              "Manhattan        725631.0\n",
              "Queens           305325.0\n",
              "Staten Island     24290.0\n",
              "Name: number_of_reviews, dtype: float64"
            ]
          },
          "execution_count": 22,
          "metadata": {},
          "output_type": "execute_result"
        }
      ],
      "source": [
        "df.groupby('neighbourhood_group')['number_of_reviews'].sum()"
      ]
    },
    {
      "cell_type": "code",
      "execution_count": 23,
      "metadata": {
        "colab": {
          "base_uri": "https://localhost:8080/",
          "height": 411
        },
        "id": "pBjTNZuo8EA6",
        "outputId": "d99d78ff-36fc-4f58-f713-4fe6800103eb"
      },
      "outputs": [
        {
          "data": {
            "image/png": "[encoded data removed]",
            "text/plain": [
              "<Figure size 504x504 with 1 Axes>"
            ]
          },
          "metadata": {},
          "output_type": "display_data"
        }
      ],
      "source": [
        "df.groupby('neighbourhood_group')['number_of_reviews'].sum().plot(kind='pie', figsize=(7,7), autopct='%.2f')\n",
        "plt.show()"
      ]
    },
    {
      "cell_type": "markdown",
      "metadata": {
        "id": "ZwJ7dGr_85Em"
      },
      "source": [
        "Dari hasil visual di atas kita bisa melihat bahwa wilayah Brooklyn memiliki total review paling banyak pada properti Airbnb di dalamnya yaitu sebanyak 825306 review."
      ]
    },
    {
      "cell_type": "code",
      "execution_count": 24,
      "metadata": {
        "colab": {
          "base_uri": "https://localhost:8080/",
          "height": 363
        },
        "id": "76lOWBNV-UHN",
        "outputId": "8ce79211-7824-46c3-e8ac-edcfd127963b"
      },
      "outputs": [
        {
          "data": {
            "text/html": [
              "<div>\n",
              "<style scoped>\n",
              "    .dataframe tbody tr th:only-of-type {\n",
              "        vertical-align: middle;\n",
              "    }\n",
              "\n",
              "    .dataframe tbody tr th {\n",
              "        vertical-align: top;\n",
              "    }\n",
              "\n",
              "    .dataframe thead th {\n",
              "        text-align: right;\n",
              "    }\n",
              "</style>\n",
              "<table border=\"1\" class=\"dataframe\">\n",
              "  <thead>\n",
              "    <tr style=\"text-align: right;\">\n",
              "      <th></th>\n",
              "      <th>index</th>\n",
              "      <th>host_name</th>\n",
              "    </tr>\n",
              "  </thead>\n",
              "  <tbody>\n",
              "    <tr>\n",
              "      <th>0</th>\n",
              "      <td>Michael</td>\n",
              "      <td>582</td>\n",
              "    </tr>\n",
              "    <tr>\n",
              "      <th>1</th>\n",
              "      <td>David</td>\n",
              "      <td>499</td>\n",
              "    </tr>\n",
              "    <tr>\n",
              "      <th>2</th>\n",
              "      <td>Alex</td>\n",
              "      <td>385</td>\n",
              "    </tr>\n",
              "    <tr>\n",
              "      <th>3</th>\n",
              "      <td>Sonder (NYC)</td>\n",
              "      <td>374</td>\n",
              "    </tr>\n",
              "    <tr>\n",
              "      <th>4</th>\n",
              "      <td>John</td>\n",
              "      <td>374</td>\n",
              "    </tr>\n",
              "    <tr>\n",
              "      <th>5</th>\n",
              "      <td>Karen</td>\n",
              "      <td>359</td>\n",
              "    </tr>\n",
              "    <tr>\n",
              "      <th>6</th>\n",
              "      <td>blank</td>\n",
              "      <td>313</td>\n",
              "    </tr>\n",
              "    <tr>\n",
              "      <th>7</th>\n",
              "      <td>Daniel</td>\n",
              "      <td>312</td>\n",
              "    </tr>\n",
              "    <tr>\n",
              "      <th>8</th>\n",
              "      <td>Maria</td>\n",
              "      <td>290</td>\n",
              "    </tr>\n",
              "    <tr>\n",
              "      <th>9</th>\n",
              "      <td>Blueground</td>\n",
              "      <td>288</td>\n",
              "    </tr>\n",
              "  </tbody>\n",
              "</table>\n",
              "</div>"
            ],
            "text/plain": [
              "          index  host_name\n",
              "0       Michael        582\n",
              "1         David        499\n",
              "2          Alex        385\n",
              "3  Sonder (NYC)        374\n",
              "4          John        374\n",
              "5         Karen        359\n",
              "6         blank        313\n",
              "7        Daniel        312\n",
              "8         Maria        290\n",
              "9    Blueground        288"
            ]
          },
          "execution_count": 24,
          "metadata": {},
          "output_type": "execute_result"
        }
      ],
      "source": [
        "temp = pd.DataFrame(df['host_name'].value_counts()).reset_index().iloc[:10, :]\n",
        "temp"
      ]
    },
    {
      "cell_type": "code",
      "execution_count": 25,
      "metadata": {
        "colab": {
          "base_uri": "https://localhost:8080/",
          "height": 405
        },
        "id": "vbGXaWXeMKa5",
        "outputId": "b0919672-4244-44a1-9c9e-2671b2b9e19f"
      },
      "outputs": [
        {
          "data": {
            "image/png": "[encoded data removed]",
            "text/plain": [
              "<Figure size 864x432 with 1 Axes>"
            ]
          },
          "metadata": {
            "needs_background": "light"
          },
          "output_type": "display_data"
        }
      ],
      "source": [
        "plt.figure(figsize=(12,6))\n",
        "temp = pd.DataFrame(df['host_name'].value_counts()).reset_index().iloc[:10, :]\n",
        "temp.columns = ['name', 'num_of_prop']\n",
        "ax = sns.barplot(data=temp, y='name', x='num_of_prop', palette=\"Blues_d\")\n",
        "plt.title('Ranking of NYC Airbnb Host by Number of Property')\n",
        "plt.show()"
      ]
    },
    {
      "cell_type": "markdown",
      "metadata": {
        "id": "li-FihoA9lrU"
      },
      "source": [
        "Kita bisa melihat nama-nama pemilik Airbnb dengan jumlah properti terbanyak. Host dengan nama Michael memiliki jumlah properti terbanyak yaitu 582, dan disusul oleh David dengan jumlah properti 499."
      ]
    },
    {
      "cell_type": "code",
      "execution_count": 26,
      "metadata": {
        "colab": {
          "base_uri": "https://localhost:8080/",
          "height": 542
        },
        "id": "w9PlwQHrSFQU",
        "outputId": "3d190361-fea5-4fda-9b5e-4c0483aaf21a"
      },
      "outputs": [
        {
          "data": {
            "application/vnd.plotly.v1+json": {
              "config": {
                "plotlyServerURL": "https://plot.ly"
              },
              "data": [
                {
                  "branchvalues": "total",
                  "domain": {
                    "x": [
                      0,
                      1
                    ],
                    "y": [
                      0,
                      1
                    ]
                  },
                  "hovertemplate": "labels=%{label}<br>count=%{value}<br>parent=%{parent}<br>id=%{id}<extra></extra>",
                  "ids": [
                    "Bronx/1.0",
                    "Brooklyn/1.0",
                    "Manhattan/1.0",
                    "Queens/1.0",
                    "Staten Island/1.0",
                    "Bronx/2.0",
                    "Brooklyn/2.0",
                    "Manhattan/2.0",
                    "Queens/2.0",
                    "Staten Island/2.0",
                    "Bronx/3.0",
                    "Brooklyn/3.0",
                    "Manhattan/3.0",
                    "Queens/3.0",
                    "Staten Island/3.0",
                    "Bronx/4.0",
                    "Brooklyn/4.0",
                    "Manhattan/4.0",
                    "Queens/4.0",
                    "Staten Island/4.0",
                    "Bronx/5.0",
                    "Brooklyn/5.0",
                    "Manhattan/5.0",
                    "Queens/5.0",
                    "Staten Island/5.0",
                    "Bronx",
                    "Brooklyn",
                    "Manhattan",
                    "Queens",
                    "Staten Island"
                  ],
                  "labels": [
                    "1.0",
                    "1.0",
                    "1.0",
                    "1.0",
                    "1.0",
                    "2.0",
                    "2.0",
                    "2.0",
                    "2.0",
                    "2.0",
                    "3.0",
                    "3.0",
                    "3.0",
                    "3.0",
                    "3.0",
                    "4.0",
                    "4.0",
                    "4.0",
                    "4.0",
                    "4.0",
                    "5.0",
                    "5.0",
                    "5.0",
                    "5.0",
                    "5.0",
                    "Bronx",
                    "Brooklyn",
                    "Manhattan",
                    "Queens",
                    "Staten Island"
                  ],
                  "name": "",
                  "parents": [
                    "Bronx",
                    "Brooklyn",
                    "Manhattan",
                    "Queens",
                    "Staten Island",
                    "Bronx",
                    "Brooklyn",
                    "Manhattan",
                    "Queens",
                    "Staten Island",
                    "Bronx",
                    "Brooklyn",
                    "Manhattan",
                    "Queens",
                    "Staten Island",
                    "Bronx",
                    "Brooklyn",
                    "Manhattan",
                    "Queens",
                    "Staten Island",
                    "Bronx",
                    "Brooklyn",
                    "Manhattan",
                    "Queens",
                    "Staten Island",
                    "",
                    "",
                    "",
                    "",
                    ""
                  ],
                  "root": {
                    "color": "lightgrey"
                  },
                  "type": "sunburst",
                  "values": [
                    83,
                    2186,
                    2231,
                    478,
                    26,
                    429,
                    6454,
                    6750,
                    2183,
                    153,
                    493,
                    6374,
                    6935,
                    2206,
                    157,
                    466,
                    6494,
                    6758,
                    2205,
                    143,
                    441,
                    6387,
                    6913,
                    2190,
                    170,
                    1912,
                    27895,
                    29587,
                    9262,
                    649
                  ]
                }
              ],
              "layout": {
                "legend": {
                  "tracegroupgap": 0
                },
                "template": {
                  "data": {
                    "bar": [
                      {
                        "error_x": {
                          "color": "#2a3f5f"
                        },
                        "error_y": {
                          "color": "#2a3f5f"
                        },
                        "marker": {
                          "line": {
                            "color": "#E5ECF6",
                            "width": 0.5
                          },
                          "pattern": {
                            "fillmode": "overlay",
                            "size": 10,
                            "solidity": 0.2
                          }
                        },
                        "type": "bar"
                      }
                    ],
                    "barpolar": [
                      {
                        "marker": {
                          "line": {
                            "color": "#E5ECF6",
                            "width": 0.5
                          },
                          "pattern": {
                            "fillmode": "overlay",
                            "size": 10,
                            "solidity": 0.2
                          }
                        },
                        "type": "barpolar"
                      }
                    ],
                    "carpet": [
                      {
                        "aaxis": {
                          "endlinecolor": "#2a3f5f",
                          "gridcolor": "white",
                          "linecolor": "white",
                          "minorgridcolor": "white",
                          "startlinecolor": "#2a3f5f"
                        },
                        "baxis": {
                          "endlinecolor": "#2a3f5f",
                          "gridcolor": "white",
                          "linecolor": "white",
                          "minorgridcolor": "white",
                          "startlinecolor": "#2a3f5f"
                        },
                        "type": "carpet"
                      }
                    ],
                    "choropleth": [
                      {
                        "colorbar": {
                          "outlinewidth": 0,
                          "ticks": ""
                        },
                        "type": "choropleth"
                      }
                    ],
                    "contour": [
                      {
                        "colorbar": {
                          "outlinewidth": 0,
                          "ticks": ""
                        },
                        "colorscale": [
                          [
                            0,
                            "#0d0887"
                          ],
                          [
                            0.1111111111111111,
                            "#46039f"
                          ],
                          [
                            0.2222222222222222,
                            "#7201a8"
                          ],
                          [
                            0.3333333333333333,
                            "#9c179e"
                          ],
                          [
                            0.4444444444444444,
                            "#bd3786"
                          ],
                          [
                            0.5555555555555556,
                            "#d8576b"
                          ],
                          [
                            0.6666666666666666,
                            "#ed7953"
                          ],
                          [
                            0.7777777777777778,
                            "#fb9f3a"
                          ],
                          [
                            0.8888888888888888,
                            "#fdca26"
                          ],
                          [
                            1,
                            "#f0f921"
                          ]
                        ],
                        "type": "contour"
                      }
                    ],
                    "contourcarpet": [
                      {
                        "colorbar": {
                          "outlinewidth": 0,
                          "ticks": ""
                        },
                        "type": "contourcarpet"
                      }
                    ],
                    "heatmap": [
                      {
                        "colorbar": {
                          "outlinewidth": 0,
                          "ticks": ""
                        },
                        "colorscale": [
                          [
                            0,
                            "#0d0887"
                          ],
                          [
                            0.1111111111111111,
                            "#46039f"
                          ],
                          [
                            0.2222222222222222,
                            "#7201a8"
                          ],
                          [
                            0.3333333333333333,
                            "#9c179e"
                          ],
                          [
                            0.4444444444444444,
                            "#bd3786"
                          ],
                          [
                            0.5555555555555556,
                            "#d8576b"
                          ],
                          [
                            0.6666666666666666,
                            "#ed7953"
                          ],
                          [
                            0.7777777777777778,
                            "#fb9f3a"
                          ],
                          [
                            0.8888888888888888,
                            "#fdca26"
                          ],
                          [
                            1,
                            "#f0f921"
                          ]
                        ],
                        "type": "heatmap"
                      }
                    ],
                    "heatmapgl": [
                      {
                        "colorbar": {
                          "outlinewidth": 0,
                          "ticks": ""
                        },
                        "colorscale": [
                          [
                            0,
                            "#0d0887"
                          ],
                          [
                            0.1111111111111111,
                            "#46039f"
                          ],
                          [
                            0.2222222222222222,
                            "#7201a8"
                          ],
                          [
                            0.3333333333333333,
                            "#9c179e"
                          ],
                          [
                            0.4444444444444444,
                            "#bd3786"
                          ],
                          [
                            0.5555555555555556,
                            "#d8576b"
                          ],
                          [
                            0.6666666666666666,
                            "#ed7953"
                          ],
                          [
                            0.7777777777777778,
                            "#fb9f3a"
                          ],
                          [
                            0.8888888888888888,
                            "#fdca26"
                          ],
                          [
                            1,
                            "#f0f921"
                          ]
                        ],
                        "type": "heatmapgl"
                      }
                    ],
                    "histogram": [
                      {
                        "marker": {
                          "pattern": {
                            "fillmode": "overlay",
                            "size": 10,
                            "solidity": 0.2
                          }
                        },
                        "type": "histogram"
                      }
                    ],
                    "histogram2d": [
                      {
                        "colorbar": {
                          "outlinewidth": 0,
                          "ticks": ""
                        },
                        "colorscale": [
                          [
                            0,
                            "#0d0887"
                          ],
                          [
                            0.1111111111111111,
                            "#46039f"
                          ],
                          [
                            0.2222222222222222,
                            "#7201a8"
                          ],
                          [
                            0.3333333333333333,
                            "#9c179e"
                          ],
                          [
                            0.4444444444444444,
                            "#bd3786"
                          ],
                          [
                            0.5555555555555556,
                            "#d8576b"
                          ],
                          [
                            0.6666666666666666,
                            "#ed7953"
                          ],
                          [
                            0.7777777777777778,
                            "#fb9f3a"
                          ],
                          [
                            0.8888888888888888,
                            "#fdca26"
                          ],
                          [
                            1,
                            "#f0f921"
                          ]
                        ],
                        "type": "histogram2d"
                      }
                    ],
                    "histogram2dcontour": [
                      {
                        "colorbar": {
                          "outlinewidth": 0,
                          "ticks": ""
                        },
                        "colorscale": [
                          [
                            0,
                            "#0d0887"
                          ],
                          [
                            0.1111111111111111,
                            "#46039f"
                          ],
                          [
                            0.2222222222222222,
                            "#7201a8"
                          ],
                          [
                            0.3333333333333333,
                            "#9c179e"
                          ],
                          [
                            0.4444444444444444,
                            "#bd3786"
                          ],
                          [
                            0.5555555555555556,
                            "#d8576b"
                          ],
                          [
                            0.6666666666666666,
                            "#ed7953"
                          ],
                          [
                            0.7777777777777778,
                            "#fb9f3a"
                          ],
                          [
                            0.8888888888888888,
                            "#fdca26"
                          ],
                          [
                            1,
                            "#f0f921"
                          ]
                        ],
                        "type": "histogram2dcontour"
                      }
                    ],
                    "mesh3d": [
                      {
                        "colorbar": {
                          "outlinewidth": 0,
                          "ticks": ""
                        },
                        "type": "mesh3d"
                      }
                    ],
                    "parcoords": [
                      {
                        "line": {
                          "colorbar": {
                            "outlinewidth": 0,
                            "ticks": ""
                          }
                        },
                        "type": "parcoords"
                      }
                    ],
                    "pie": [
                      {
                        "automargin": true,
                        "type": "pie"
                      }
                    ],
                    "scatter": [
                      {
                        "fillpattern": {
                          "fillmode": "overlay",
                          "size": 10,
                          "solidity": 0.2
                        },
                        "type": "scatter"
                      }
                    ],
                    "scatter3d": [
                      {
                        "line": {
                          "colorbar": {
                            "outlinewidth": 0,
                            "ticks": ""
                          }
                        },
                        "marker": {
                          "colorbar": {
                            "outlinewidth": 0,
                            "ticks": ""
                          }
                        },
                        "type": "scatter3d"
                      }
                    ],
                    "scattercarpet": [
                      {
                        "marker": {
                          "colorbar": {
                            "outlinewidth": 0,
                            "ticks": ""
                          }
                        },
                        "type": "scattercarpet"
                      }
                    ],
                    "scattergeo": [
                      {
                        "marker": {
                          "colorbar": {
                            "outlinewidth": 0,
                            "ticks": ""
                          }
                        },
                        "type": "scattergeo"
                      }
                    ],
                    "scattergl": [
                      {
                        "marker": {
                          "colorbar": {
                            "outlinewidth": 0,
                            "ticks": ""
                          }
                        },
                        "type": "scattergl"
                      }
                    ],
                    "scattermapbox": [
                      {
                        "marker": {
                          "colorbar": {
                            "outlinewidth": 0,
                            "ticks": ""
                          }
                        },
                        "type": "scattermapbox"
                      }
                    ],
                    "scatterpolar": [
                      {
                        "marker": {
                          "colorbar": {
                            "outlinewidth": 0,
                            "ticks": ""
                          }
                        },
                        "type": "scatterpolar"
                      }
                    ],
                    "scatterpolargl": [
                      {
                        "marker": {
                          "colorbar": {
                            "outlinewidth": 0,
                            "ticks": ""
                          }
                        },
                        "type": "scatterpolargl"
                      }
                    ],
                    "scatterternary": [
                      {
                        "marker": {
                          "colorbar": {
                            "outlinewidth": 0,
                            "ticks": ""
                          }
                        },
                        "type": "scatterternary"
                      }
                    ],
                    "surface": [
                      {
                        "colorbar": {
                          "outlinewidth": 0,
                          "ticks": ""
                        },
                        "colorscale": [
                          [
                            0,
                            "#0d0887"
                          ],
                          [
                            0.1111111111111111,
                            "#46039f"
                          ],
                          [
                            0.2222222222222222,
                            "#7201a8"
                          ],
                          [
                            0.3333333333333333,
                            "#9c179e"
                          ],
                          [
                            0.4444444444444444,
                            "#bd3786"
                          ],
                          [
                            0.5555555555555556,
                            "#d8576b"
                          ],
                          [
                            0.6666666666666666,
                            "#ed7953"
                          ],
                          [
                            0.7777777777777778,
                            "#fb9f3a"
                          ],
                          [
                            0.8888888888888888,
                            "#fdca26"
                          ],
                          [
                            1,
                            "#f0f921"
                          ]
                        ],
                        "type": "surface"
                      }
                    ],
                    "table": [
                      {
                        "cells": {
                          "fill": {
                            "color": "#EBF0F8"
                          },
                          "line": {
                            "color": "white"
                          }
                        },
                        "header": {
                          "fill": {
                            "color": "#C8D4E3"
                          },
                          "line": {
                            "color": "white"
                          }
                        },
                        "type": "table"
                      }
                    ]
                  },
                  "layout": {
                    "annotationdefaults": {
                      "arrowcolor": "#2a3f5f",
                      "arrowhead": 0,
                      "arrowwidth": 1
                    },
                    "autotypenumbers": "strict",
                    "coloraxis": {
                      "colorbar": {
                        "outlinewidth": 0,
                        "ticks": ""
                      }
                    },
                    "colorscale": {
                      "diverging": [
                        [
                          0,
                          "#8e0152"
                        ],
                        [
                          0.1,
                          "#c51b7d"
                        ],
                        [
                          0.2,
                          "#de77ae"
                        ],
                        [
                          0.3,
                          "#f1b6da"
                        ],
                        [
                          0.4,
                          "#fde0ef"
                        ],
                        [
                          0.5,
                          "#f7f7f7"
                        ],
                        [
                          0.6,
                          "#e6f5d0"
                        ],
                        [
                          0.7,
                          "#b8e186"
                        ],
                        [
                          0.8,
                          "#7fbc41"
                        ],
                        [
                          0.9,
                          "#4d9221"
                        ],
                        [
                          1,
                          "#276419"
                        ]
                      ],
                      "sequential": [
                        [
                          0,
                          "#0d0887"
                        ],
                        [
                          0.1111111111111111,
                          "#46039f"
                        ],
                        [
                          0.2222222222222222,
                          "#7201a8"
                        ],
                        [
                          0.3333333333333333,
                          "#9c179e"
                        ],
                        [
                          0.4444444444444444,
                          "#bd3786"
                        ],
                        [
                          0.5555555555555556,
                          "#d8576b"
                        ],
                        [
                          0.6666666666666666,
                          "#ed7953"
                        ],
                        [
                          0.7777777777777778,
                          "#fb9f3a"
                        ],
                        [
                          0.8888888888888888,
                          "#fdca26"
                        ],
                        [
                          1,
                          "#f0f921"
                        ]
                      ],
                      "sequentialminus": [
                        [
                          0,
                          "#0d0887"
                        ],
                        [
                          0.1111111111111111,
                          "#46039f"
                        ],
                        [
                          0.2222222222222222,
                          "#7201a8"
                        ],
                        [
                          0.3333333333333333,
                          "#9c179e"
                        ],
                        [
                          0.4444444444444444,
                          "#bd3786"
                        ],
                        [
                          0.5555555555555556,
                          "#d8576b"
                        ],
                        [
                          0.6666666666666666,
                          "#ed7953"
                        ],
                        [
                          0.7777777777777778,
                          "#fb9f3a"
                        ],
                        [
                          0.8888888888888888,
                          "#fdca26"
                        ],
                        [
                          1,
                          "#f0f921"
                        ]
                      ]
                    },
                    "colorway": [
                      "#636efa",
                      "#EF553B",
                      "#00cc96",
                      "#ab63fa",
                      "#FFA15A",
                      "#19d3f3",
                      "#FF6692",
                      "#B6E880",
                      "#FF97FF",
                      "#FECB52"
                    ],
                    "font": {
                      "color": "#2a3f5f"
                    },
                    "geo": {
                      "bgcolor": "white",
                      "lakecolor": "white",
                      "landcolor": "#E5ECF6",
                      "showlakes": true,
                      "showland": true,
                      "subunitcolor": "white"
                    },
                    "hoverlabel": {
                      "align": "left"
                    },
                    "hovermode": "closest",
                    "mapbox": {
                      "style": "light"
                    },
                    "paper_bgcolor": "white",
                    "plot_bgcolor": "#E5ECF6",
                    "polar": {
                      "angularaxis": {
                        "gridcolor": "white",
                        "linecolor": "white",
                        "ticks": ""
                      },
                      "bgcolor": "#E5ECF6",
                      "radialaxis": {
                        "gridcolor": "white",
                        "linecolor": "white",
                        "ticks": ""
                      }
                    },
                    "scene": {
                      "xaxis": {
                        "backgroundcolor": "#E5ECF6",
                        "gridcolor": "white",
                        "gridwidth": 2,
                        "linecolor": "white",
                        "showbackground": true,
                        "ticks": "",
                        "zerolinecolor": "white"
                      },
                      "yaxis": {
                        "backgroundcolor": "#E5ECF6",
                        "gridcolor": "white",
                        "gridwidth": 2,
                        "linecolor": "white",
                        "showbackground": true,
                        "ticks": "",
                        "zerolinecolor": "white"
                      },
                      "zaxis": {
                        "backgroundcolor": "#E5ECF6",
                        "gridcolor": "white",
                        "gridwidth": 2,
                        "linecolor": "white",
                        "showbackground": true,
                        "ticks": "",
                        "zerolinecolor": "white"
                      }
                    },
                    "shapedefaults": {
                      "line": {
                        "color": "#2a3f5f"
                      }
                    },
                    "ternary": {
                      "aaxis": {
                        "gridcolor": "white",
                        "linecolor": "white",
                        "ticks": ""
                      },
                      "baxis": {
                        "gridcolor": "white",
                        "linecolor": "white",
                        "ticks": ""
                      },
                      "bgcolor": "#E5ECF6",
                      "caxis": {
                        "gridcolor": "white",
                        "linecolor": "white",
                        "ticks": ""
                      }
                    },
                    "title": {
                      "x": 0.05
                    },
                    "xaxis": {
                      "automargin": true,
                      "gridcolor": "white",
                      "linecolor": "white",
                      "ticks": "",
                      "title": {
                        "standoff": 15
                      },
                      "zerolinecolor": "white",
                      "zerolinewidth": 2
                    },
                    "yaxis": {
                      "automargin": true,
                      "gridcolor": "white",
                      "linecolor": "white",
                      "ticks": "",
                      "title": {
                        "standoff": 15
                      },
                      "zerolinecolor": "white",
                      "zerolinewidth": 2
                    }
                  }
                },
                "title": {
                  "text": "Daerah dengan Jumlah Masing-Masing Rating"
                }
              }
            }
          },
          "metadata": {},
          "output_type": "display_data"
        }
      ],
      "source": [
        "fig = px.sunburst(df, path=['neighbourhood_group', 'review_rate_number'], \n",
        "                title='Daerah dengan Jumlah Masing-Masing Rating')\n",
        "fig.update_traces(root_color=\"lightgrey\")\n",
        "fig.show()"
      ]
    },
    {
      "cell_type": "markdown",
      "metadata": {
        "id": "oUvZHl-N_ggU"
      },
      "source": [
        "Dari visual di atas kita bisa melihat bahwa kota Manhattan memiliki jumlah properti dengan rating 5 terbanyak yaitu sebanyak 6913 properti."
      ]
    },
    {
      "cell_type": "markdown",
      "metadata": {
        "id": "u905bybTLJub"
      },
      "source": [
        "## Statistik Deskriptif"
      ]
    },
    {
      "cell_type": "markdown",
      "metadata": {
        "id": "manR3Mt5aun3"
      },
      "source": [
        "Saya akan mencari tahu jenis distribusi dari harga tiap properti di Manhattan"
      ]
    },
    {
      "cell_type": "code",
      "execution_count": 27,
      "metadata": {
        "colab": {
          "base_uri": "https://localhost:8080/"
        },
        "id": "dqZzIqov_TCM",
        "outputId": "7e18946f-ff9a-46fe-c75f-1696bc48bce3"
      },
      "outputs": [
        {
          "name": "stdout",
          "output_type": "stream",
          "text": [
            "Min: 50.0\n",
            "Mode: 624.7360700839849\n",
            "Median: 624.0\n",
            "Mean: 622.101014086571\n",
            "Max: 1200.0\n"
          ]
        }
      ],
      "source": [
        "manh = df[df['neighbourhood_group'] == 'Manhattan']\n",
        "\n",
        "print ('Min: ' + str(manh['price'].min()))\n",
        "print ('Mode: ' + str(manh['price'].mode()[0]))\n",
        "print ('Median: ' + str(manh['price'].median()))\n",
        "print ('Mean: ' + str(manh['price'].mean()))\n",
        "print ('Max: ' + str(manh['price'].max()))"
      ]
    },
    {
      "cell_type": "markdown",
      "metadata": {
        "id": "PZB2xNLfA9mb"
      },
      "source": [
        "Dari hasil di atas kita bisa melihat bahwa harga properti tertinggi di Manhattan adalah 1200 dollar dan yang terendah adalah 50 dollar. Rata-rata harga di Manhattan adalah 622.10 dollar. Jenis distribusi data akan lebih mudah dilihat secara visual, maka akan kita buat histogram persebaran data harga di Manhattan."
      ]
    },
    {
      "cell_type": "code",
      "execution_count": 28,
      "metadata": {
        "colab": {
          "base_uri": "https://localhost:8080/",
          "height": 299
        },
        "id": "l_PJCqrAA9F3",
        "outputId": "a0eb13b6-b671-47f1-ccc1-fddd327998fd"
      },
      "outputs": [
        {
          "name": "stdout",
          "output_type": "stream",
          "text": [
            "Skewness value :  0.00740040036214729\n"
          ]
        },
        {
          "data": {
            "image/png": "[encoded data removed]",
            "text/plain": [
              "<Figure size 432x288 with 1 Axes>"
            ]
          },
          "metadata": {
            "needs_background": "light"
          },
          "output_type": "display_data"
        }
      ],
      "source": [
        "price = manh['price']\n",
        "price.plot.hist(title='Manhattan Price Distribution', color='lightblue', bins=25)  \n",
        "plt.axvline(price.mean(), color='magenta', linestyle='dashed', linewidth=2)\n",
        "plt.axvline(price.median(), color='green', linestyle='dashed', linewidth=2)\n",
        "print('Skewness value : ', price.skew())\n",
        "plt.show()"
      ]
    },
    {
      "cell_type": "markdown",
      "metadata": {
        "id": "0iw19vVtEBAN"
      },
      "source": [
        "Dari hasil visual di atas kita bisa melihat bahwa jenis distribusi data adalah normal. Kita juga bisa melihat jenis persebaranya dari nilai skewness atau kemiringan, dimana nilai skewness dari harga di Manhattan sangatlah rendah di angka 0.007 sehingga masih terhitung normal."
      ]
    },
    {
      "cell_type": "markdown",
      "metadata": {
        "id": "5FQBcn3KLM9x"
      },
      "source": [
        "## Statistik Inferensial"
      ]
    },
    {
      "cell_type": "markdown",
      "metadata": {
        "id": "A_sx1qBhAgeM"
      },
      "source": [
        "Saya ingin coba mencari apakah ada hubungan antara wilayah dengan status host Airbnb. Pertama kita akan membuat dataframe berisi nama wilayah dan juga status host dan setelah itu kita akan menghitung menggunakan chi square test."
      ]
    },
    {
      "cell_type": "code",
      "execution_count": 29,
      "metadata": {
        "colab": {
          "base_uri": "https://localhost:8080/",
          "height": 424
        },
        "id": "gK8DnzuUGYay",
        "outputId": "b45e6fea-f1a5-4d56-c878-38dd5047ac1d"
      },
      "outputs": [
        {
          "data": {
            "text/html": [
              "<div>\n",
              "<style scoped>\n",
              "    .dataframe tbody tr th:only-of-type {\n",
              "        vertical-align: middle;\n",
              "    }\n",
              "\n",
              "    .dataframe tbody tr th {\n",
              "        vertical-align: top;\n",
              "    }\n",
              "\n",
              "    .dataframe thead th {\n",
              "        text-align: right;\n",
              "    }\n",
              "</style>\n",
              "<table border=\"1\" class=\"dataframe\">\n",
              "  <thead>\n",
              "    <tr style=\"text-align: right;\">\n",
              "      <th></th>\n",
              "      <th>neighbourhood_group</th>\n",
              "      <th>host_identity_verified</th>\n",
              "    </tr>\n",
              "  </thead>\n",
              "  <tbody>\n",
              "    <tr>\n",
              "      <th>0</th>\n",
              "      <td>Brooklyn</td>\n",
              "      <td>unconfirmed</td>\n",
              "    </tr>\n",
              "    <tr>\n",
              "      <th>1</th>\n",
              "      <td>Manhattan</td>\n",
              "      <td>verified</td>\n",
              "    </tr>\n",
              "    <tr>\n",
              "      <th>2</th>\n",
              "      <td>Manhattan</td>\n",
              "      <td>unconfirmed</td>\n",
              "    </tr>\n",
              "    <tr>\n",
              "      <th>3</th>\n",
              "      <td>Brooklyn</td>\n",
              "      <td>unconfirmed</td>\n",
              "    </tr>\n",
              "    <tr>\n",
              "      <th>4</th>\n",
              "      <td>Manhattan</td>\n",
              "      <td>verified</td>\n",
              "    </tr>\n",
              "    <tr>\n",
              "      <th>...</th>\n",
              "      <td>...</td>\n",
              "      <td>...</td>\n",
              "    </tr>\n",
              "    <tr>\n",
              "      <th>69300</th>\n",
              "      <td>Brooklyn</td>\n",
              "      <td>verified</td>\n",
              "    </tr>\n",
              "    <tr>\n",
              "      <th>69301</th>\n",
              "      <td>Brooklyn</td>\n",
              "      <td>unconfirmed</td>\n",
              "    </tr>\n",
              "    <tr>\n",
              "      <th>69302</th>\n",
              "      <td>Manhattan</td>\n",
              "      <td>verified</td>\n",
              "    </tr>\n",
              "    <tr>\n",
              "      <th>69303</th>\n",
              "      <td>Manhattan</td>\n",
              "      <td>verified</td>\n",
              "    </tr>\n",
              "    <tr>\n",
              "      <th>69304</th>\n",
              "      <td>Brooklyn</td>\n",
              "      <td>unconfirmed</td>\n",
              "    </tr>\n",
              "  </tbody>\n",
              "</table>\n",
              "<p>69305 rows × 2 columns</p>\n",
              "</div>"
            ],
            "text/plain": [
              "      neighbourhood_group host_identity_verified\n",
              "0                Brooklyn            unconfirmed\n",
              "1               Manhattan               verified\n",
              "2               Manhattan            unconfirmed\n",
              "3                Brooklyn            unconfirmed\n",
              "4               Manhattan               verified\n",
              "...                   ...                    ...\n",
              "69300            Brooklyn               verified\n",
              "69301            Brooklyn            unconfirmed\n",
              "69302           Manhattan               verified\n",
              "69303           Manhattan               verified\n",
              "69304            Brooklyn            unconfirmed\n",
              "\n",
              "[69305 rows x 2 columns]"
            ]
          },
          "execution_count": 29,
          "metadata": {},
          "output_type": "execute_result"
        }
      ],
      "source": [
        "q1 = \"\"\"SELECT neighbourhood_group, host_identity_verified FROM df \"\"\"\n",
        "\n",
        "chi = pd.DataFrame(ps.sqldf(q1, locals()))\n",
        "chi"
      ]
    },
    {
      "cell_type": "code",
      "execution_count": 30,
      "metadata": {
        "colab": {
          "base_uri": "https://localhost:8080/",
          "height": 238
        },
        "id": "UfqPUV2cItZn",
        "outputId": "dc3663f1-ed3f-46b8-f6d8-6ae381e16569"
      },
      "outputs": [
        {
          "data": {
            "text/html": [
              "<div>\n",
              "<style scoped>\n",
              "    .dataframe tbody tr th:only-of-type {\n",
              "        vertical-align: middle;\n",
              "    }\n",
              "\n",
              "    .dataframe tbody tr th {\n",
              "        vertical-align: top;\n",
              "    }\n",
              "\n",
              "    .dataframe thead th {\n",
              "        text-align: right;\n",
              "    }\n",
              "</style>\n",
              "<table border=\"1\" class=\"dataframe\">\n",
              "  <thead>\n",
              "    <tr style=\"text-align: right;\">\n",
              "      <th>host_identity_verified</th>\n",
              "      <th>unconfirmed</th>\n",
              "      <th>verified</th>\n",
              "    </tr>\n",
              "    <tr>\n",
              "      <th>neighbourhood_group</th>\n",
              "      <th></th>\n",
              "      <th></th>\n",
              "    </tr>\n",
              "  </thead>\n",
              "  <tbody>\n",
              "    <tr>\n",
              "      <th>Bronx</th>\n",
              "      <td>974</td>\n",
              "      <td>938</td>\n",
              "    </tr>\n",
              "    <tr>\n",
              "      <th>Brooklyn</th>\n",
              "      <td>14026</td>\n",
              "      <td>13869</td>\n",
              "    </tr>\n",
              "    <tr>\n",
              "      <th>Manhattan</th>\n",
              "      <td>14830</td>\n",
              "      <td>14757</td>\n",
              "    </tr>\n",
              "    <tr>\n",
              "      <th>Queens</th>\n",
              "      <td>4620</td>\n",
              "      <td>4642</td>\n",
              "    </tr>\n",
              "    <tr>\n",
              "      <th>Staten Island</th>\n",
              "      <td>329</td>\n",
              "      <td>320</td>\n",
              "    </tr>\n",
              "  </tbody>\n",
              "</table>\n",
              "</div>"
            ],
            "text/plain": [
              "host_identity_verified  unconfirmed  verified\n",
              "neighbourhood_group                          \n",
              "Bronx                           974       938\n",
              "Brooklyn                      14026     13869\n",
              "Manhattan                     14830     14757\n",
              "Queens                         4620      4642\n",
              "Staten Island                   329       320"
            ]
          },
          "execution_count": 30,
          "metadata": {},
          "output_type": "execute_result"
        }
      ],
      "source": [
        "contingency_table=pd.crosstab(df[\"neighbourhood_group\"],df[\"host_identity_verified\"])\n",
        "contingency_table"
      ]
    },
    {
      "cell_type": "code",
      "execution_count": 31,
      "metadata": {
        "colab": {
          "base_uri": "https://localhost:8080/"
        },
        "id": "s130OqLjI-b-",
        "outputId": "79db561e-8679-4c8b-9bf2-48aa51972d60"
      },
      "outputs": [
        {
          "name": "stdout",
          "output_type": "stream",
          "text": [
            "p=0.911\n",
            "Probably independent\n"
          ]
        }
      ],
      "source": [
        "stat, p, dof, expected = stats.chi2_contingency(contingency_table)\n",
        "print('p=%.3f' % (p))\n",
        "if p > 0.05:\n",
        "    print('Probably independent')\n",
        "else:\n",
        "    print('Probably dependent')"
      ]
    },
    {
      "cell_type": "markdown",
      "metadata": {
        "id": "x9ermRMKOVts"
      },
      "source": [
        "# Kesimpulan"
      ]
    },
    {
      "cell_type": "markdown",
      "metadata": {
        "id": "K3a_0CZkOZ9k"
      },
      "source": [
        "Dari hasil analisis di atas kita bisa mengambil kesimpulan bahwa wilayah Manhattan memiliki Airbnb dengan rating 5 terbanyak dengan jumlah 6913 properti, maka kita bisa memfokuskan iklan dan marketing Airbnb untuk mengarahkan para wisatawan agar memilih Airbnb di Manhattan sehingga akan meningkatkan jumlah review perbulan."
      ]
    }
  ],
  "metadata": {
    "colab": {
      "collapsed_sections": [
        "8TUDwZQ8-sIl"
      ],
      "provenance": [],
      "toc_visible": true
    },
    "kernelspec": {
      "display_name": "Python 3.9.12",
      "language": "python",
      "name": "python3"
    },
    "language_info": {
      "codemirror_mode": {
        "name": "ipython",
        "version": 3
      },
      "file_extension": ".py",
      "mimetype": "text/x-python",
      "name": "python",
      "nbconvert_exporter": "python",
      "pygments_lexer": "ipython3",
      "version": "3.9.12"
    },
    "vscode": {
      "interpreter": {
        "hash": "2f4dead4ba0db89fa5b502bee2f7441251649722e54d64f442262b0263246696"
      }
    }
  },
  "nbformat": 4,
  "nbformat_minor": 0
}
